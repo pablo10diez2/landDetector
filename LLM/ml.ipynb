{
 "cells": [
  {
   "cell_type": "code",
   "execution_count": null,
   "metadata": {},
   "outputs": [],
   "source": [
    "# RGB 2448x2448\n",
    "# Urban land: 0,255,255: Light blue\n",
    "# Agriculture land: 255,255,0: Yellow\n",
    "# Rangeland: 255,0,255: purple\n",
    "# Forest land: 0,255,0: light green\n",
    "# Water: 0,0,255: blue\n",
    "# Barren land: 255,255,255: white\n",
    "# Unknown: 0,0,0: black"
   ]
  },
  {
   "cell_type": "code",
   "execution_count": 6,
   "metadata": {},
   "outputs": [],
   "source": [
    "import os\n",
    "from PIL import Image"
   ]
  },
  {
   "cell_type": "code",
   "execution_count": 7,
   "metadata": {},
   "outputs": [],
   "source": [
    "image = Image.open(\"DataML/train/119_mask.png\")\n",
    "image.show()\n",
    "\n",
    "image2 = Image.open(\"DataML/train/119_sat.jpg\")\n",
    "image2.show()"
   ]
  },
  {
   "cell_type": "code",
   "execution_count": null,
   "metadata": {},
   "outputs": [],
   "source": [
    "# Crop images 2448x2448 -> 2304x2304\n",
    "#--------- NO EJECUTAR DE MOMENTO-----------\n",
    "DataMLpath = \"DataML\"\n",
    "\n",
    "for root, dirs, files in os.walk(DataMLpath):\n",
    "    for image in files:\n",
    "        complete_path = os.path.join(root, image)\n",
    "\n",
    "        try:    \n",
    "            image = Image.open(complete_path)   \n",
    "\n",
    "            if (image.size == (2448, 2448)):\n",
    "                image_cropped = image.crop((72, 72, 2376, 2376))\n",
    "                image_cropped.save(complete_path)\n",
    "            \n",
    "            else:\n",
    "                print(\"Image size is not 2448x2448\")\n",
    "        except Exception as e:\n",
    "            print(f\"Error processing {image}: {e}\")"
   ]
  }
 ],
 "metadata": {
  "kernelspec": {
   "display_name": "Python 3",
   "language": "python",
   "name": "python3"
  },
  "language_info": {
   "codemirror_mode": {
    "name": "ipython",
    "version": 3
   },
   "file_extension": ".py",
   "mimetype": "text/x-python",
   "name": "python",
   "nbconvert_exporter": "python",
   "pygments_lexer": "ipython3",
   "version": "3.11.0"
  }
 },
 "nbformat": 4,
 "nbformat_minor": 2
}
